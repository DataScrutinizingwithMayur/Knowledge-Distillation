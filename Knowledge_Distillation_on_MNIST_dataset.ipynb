{
  "nbformat": 4,
  "nbformat_minor": 0,
  "metadata": {
    "colab": {
      "provenance": []
    },
    "kernelspec": {
      "name": "python3",
      "display_name": "Python 3"
    },
    "language_info": {
      "name": "python"
    }
  },
  "cells": [
    {
      "cell_type": "code",
      "execution_count": 1,
      "metadata": {
        "id": "AObMzhkv1c8w"
      },
      "outputs": [],
      "source": [
        "import torch\n",
        "import torch.nn as nn\n",
        "import torch.optim as optim\n",
        "import torchvision\n",
        "import torchvision.transforms as transforms\n",
        "import torch.nn.functional as F\n",
        "\n",
        "from torch.utils.data import DataLoader"
      ]
    },
    {
      "cell_type": "code",
      "source": [
        "# 1) Data Transformer\n",
        "transform = transforms.Compose([transforms.ToTensor(),\n",
        "                                transforms.Normalize((0.5,), (0.5,))])\n",
        "\n",
        "# 2) Create Train Dataset\n",
        "trainset = torchvision.datasets.MNIST(root='./data', train=True,\n",
        "                                      download=True, transform=transform)\n",
        "trainloader = DataLoader(trainset, batch_size=64, shuffle=True)\n",
        "\n",
        "# 3) Create Test Dataset\n",
        "testset = torchvision.datasets.MNIST(root='./data', train=False,\n",
        "                                     download=True, transform=transform)\n",
        "testloader = DataLoader(testset, batch_size=64, shuffle=False)"
      ],
      "metadata": {
        "colab": {
          "base_uri": "https://localhost:8080/"
        },
        "id": "qHLwvLZa2ZOg",
        "outputId": "c0dcf70f-147b-4f8c-d8de-2069246620a9"
      },
      "execution_count": 2,
      "outputs": [
        {
          "output_type": "stream",
          "name": "stdout",
          "text": [
            "Downloading http://yann.lecun.com/exdb/mnist/train-images-idx3-ubyte.gz\n",
            "Downloading http://yann.lecun.com/exdb/mnist/train-images-idx3-ubyte.gz to ./data/MNIST/raw/train-images-idx3-ubyte.gz\n"
          ]
        },
        {
          "output_type": "stream",
          "name": "stderr",
          "text": [
            "100%|██████████| 9912422/9912422 [00:00<00:00, 58886607.15it/s]\n"
          ]
        },
        {
          "output_type": "stream",
          "name": "stdout",
          "text": [
            "Extracting ./data/MNIST/raw/train-images-idx3-ubyte.gz to ./data/MNIST/raw\n",
            "\n",
            "Downloading http://yann.lecun.com/exdb/mnist/train-labels-idx1-ubyte.gz\n",
            "Downloading http://yann.lecun.com/exdb/mnist/train-labels-idx1-ubyte.gz to ./data/MNIST/raw/train-labels-idx1-ubyte.gz\n"
          ]
        },
        {
          "output_type": "stream",
          "name": "stderr",
          "text": [
            "100%|██████████| 28881/28881 [00:00<00:00, 30482056.83it/s]"
          ]
        },
        {
          "output_type": "stream",
          "name": "stdout",
          "text": [
            "Extracting ./data/MNIST/raw/train-labels-idx1-ubyte.gz to ./data/MNIST/raw\n",
            "\n",
            "Downloading http://yann.lecun.com/exdb/mnist/t10k-images-idx3-ubyte.gz\n",
            "Downloading http://yann.lecun.com/exdb/mnist/t10k-images-idx3-ubyte.gz to ./data/MNIST/raw/t10k-images-idx3-ubyte.gz\n"
          ]
        },
        {
          "output_type": "stream",
          "name": "stderr",
          "text": [
            "\n",
            "100%|██████████| 1648877/1648877 [00:00<00:00, 24165468.96it/s]\n"
          ]
        },
        {
          "output_type": "stream",
          "name": "stdout",
          "text": [
            "Extracting ./data/MNIST/raw/t10k-images-idx3-ubyte.gz to ./data/MNIST/raw\n",
            "\n",
            "Downloading http://yann.lecun.com/exdb/mnist/t10k-labels-idx1-ubyte.gz\n",
            "Downloading http://yann.lecun.com/exdb/mnist/t10k-labels-idx1-ubyte.gz to ./data/MNIST/raw/t10k-labels-idx1-ubyte.gz\n"
          ]
        },
        {
          "output_type": "stream",
          "name": "stderr",
          "text": [
            "100%|██████████| 4542/4542 [00:00<00:00, 7464940.74it/s]\n"
          ]
        },
        {
          "output_type": "stream",
          "name": "stdout",
          "text": [
            "Extracting ./data/MNIST/raw/t10k-labels-idx1-ubyte.gz to ./data/MNIST/raw\n",
            "\n"
          ]
        }
      ]
    },
    {
      "cell_type": "code",
      "source": [
        "class TeacherNet(nn.Module):\n",
        "    def __init__(self):\n",
        "        super(TeacherNet, self).__init__()\n",
        "        self.conv = nn.Conv2d(1, 32, 5)\n",
        "        self.pool = nn.MaxPool2d(5, 5)\n",
        "        self.fc1 = nn.Linear(32 * 4 * 4, 128)\n",
        "        self.fc2 = nn.Linear(128, 10)\n",
        "\n",
        "    def forward(self, x):\n",
        "        x = F.relu(self.conv(x))\n",
        "        x = self.pool(x)\n",
        "        x = x.view(x.size(0), -1)\n",
        "        x = F.relu(self.fc1(x))\n",
        "        x = self.fc2(x)\n",
        "        return x"
      ],
      "metadata": {
        "id": "Xlrozg362dSU"
      },
      "execution_count": 3,
      "outputs": []
    },
    {
      "cell_type": "code",
      "source": [
        "# Initialize model\n",
        "teacher_model = TeacherNet()\n",
        "\n",
        "# Define optimizer\n",
        "teacher_optimizer = optim.Adam(teacher_model.parameters(),\n",
        "                               lr=0.001)\n",
        "\n",
        "# Define loss function\n",
        "teacher_criterion = nn.CrossEntropyLoss()"
      ],
      "metadata": {
        "id": "AVYonuGE2hB6"
      },
      "execution_count": 4,
      "outputs": []
    },
    {
      "cell_type": "code",
      "source": [
        "def evaluate(model):\n",
        "    model.eval()  # Set model to evaluation mode\n",
        "    total, correct = 0, 0\n",
        "\n",
        "    with torch.no_grad():  # No need to track gradients for evaluation\n",
        "        for data in testloader:\n",
        "            inputs, labels = data\n",
        "            outputs = model(inputs)\n",
        "            _, predicted = torch.max(outputs.data, 1)\n",
        "            total += labels.size(0)\n",
        "            correct += (predicted == labels).sum().item()\n",
        "\n",
        "    accuracy = correct / total\n",
        "    return accuracy\n"
      ],
      "metadata": {
        "id": "gBTLxRaQ3Mxc"
      },
      "execution_count": 6,
      "outputs": []
    },
    {
      "cell_type": "code",
      "source": [
        "import torch\n",
        "\n",
        "for epoch in range(5):\n",
        "    epoch_loss = 0.0\n",
        "\n",
        "    # set to train mode\n",
        "    teacher_model.train()\n",
        "\n",
        "    # train for all batches of data\n",
        "    for inputs, labels in trainloader:\n",
        "        teacher_optimizer.zero_grad()  # Zero the parameter gradients\n",
        "\n",
        "        # Forward pass\n",
        "        outputs = teacher_model(inputs)\n",
        "        loss = teacher_criterion(outputs, labels)\n",
        "\n",
        "        # Backward pass and optimize\n",
        "        loss.backward()\n",
        "        teacher_optimizer.step()\n",
        "\n",
        "        epoch_loss += loss.item()\n",
        "\n",
        "    # set to evaluation mode\n",
        "    teacher_model.eval()\n",
        "    teacher_accuracy = evaluate(teacher_model)\n",
        "\n",
        "    # print performance metrics\n",
        "    print(f\"\"\"Epoch {epoch + 1},\n",
        "              Loss: {epoch_loss / len(trainloader)},\n",
        "              Acc: {teacher_accuracy * 100:.2f}%\"\"\")\n",
        "\n"
      ],
      "metadata": {
        "colab": {
          "base_uri": "https://localhost:8080/"
        },
        "id": "bqYsDy4G2jj7",
        "outputId": "a0edfe40-8055-4d04-ec3a-81aa25a052fe"
      },
      "execution_count": 11,
      "outputs": [
        {
          "output_type": "stream",
          "name": "stdout",
          "text": [
            "Epoch 1,\n",
            "              Loss: 0.21638135280289345,\n",
            "              Acc: 96.50%\n",
            "Epoch 2,\n",
            "              Loss: 0.0744556292652218,\n",
            "              Acc: 97.58%\n",
            "Epoch 3,\n",
            "              Loss: 0.0572398169008868,\n",
            "              Acc: 98.37%\n",
            "Epoch 4,\n",
            "              Loss: 0.047253273061485586,\n",
            "              Acc: 97.73%\n",
            "Epoch 5,\n",
            "              Loss: 0.03912784883434495,\n",
            "              Acc: 98.59%\n"
          ]
        }
      ]
    },
    {
      "cell_type": "markdown",
      "source": [
        "**Defining Student Model**"
      ],
      "metadata": {
        "id": "s8U9w45s4uyd"
      }
    },
    {
      "cell_type": "code",
      "source": [
        "class StudentNet(nn.Module):\n",
        "    def __init__(self):\n",
        "        super(StudentNet, self).__init__()\n",
        "        self.fc1 = nn.Linear(28 * 28, 128)\n",
        "        self.fc2 = nn.Linear(128, 10)\n",
        "\n",
        "    def forward(self, x):\n",
        "        x = x.view(x.size(0), -1)\n",
        "        x = F.relu(self.fc1(x))\n",
        "        x = self.fc2(x)\n",
        "        return x"
      ],
      "metadata": {
        "id": "-3PdYCli2nw_"
      },
      "execution_count": 12,
      "outputs": []
    },
    {
      "cell_type": "code",
      "source": [
        "# Knowledge distillation loss (KL divergence)\n",
        "def KL_loss(student_logits, teacher_logits):\n",
        "\n",
        "    # convert teacher model outputs to probabilities\n",
        "    p_teacher = F.softmax(teacher_logits, dim=1)\n",
        "\n",
        "    # convert student model outputs to probabilities\n",
        "    p_student = F.log_softmax(student_logits, dim=1)\n",
        "\n",
        "    # compute KL divergence loss (PyTorch's method)\n",
        "    loss = F.kl_div(p_student, p_teacher, reduction='batchmean')\n",
        "\n",
        "    return loss"
      ],
      "metadata": {
        "id": "XU14kJ1v42DQ"
      },
      "execution_count": 13,
      "outputs": []
    },
    {
      "cell_type": "code",
      "source": [
        "# Initialize model\n",
        "student_model = StudentNet()\n",
        "\n",
        "# Define optimizer\n",
        "student_optimizer = optim.Adam(student_model.parameters(),\n",
        "                               lr=0.001)"
      ],
      "metadata": {
        "id": "2NiY5kAA44v9"
      },
      "execution_count": 14,
      "outputs": []
    },
    {
      "cell_type": "code",
      "source": [
        "for epoch in range(5):\n",
        "    # set to train mode\n",
        "    student_model.train()\n",
        "\n",
        "    epoch_loss = 0.0\n",
        "\n",
        "    # train for all batches of data\n",
        "    for inputs, labels in trainloader:\n",
        "        student_optimizer.zero_grad()\n",
        "\n",
        "        # get student outputs\n",
        "        student_logits = student_model(inputs)\n",
        "\n",
        "        # get teacher outputs and detach them\n",
        "        # to avoid backpropagation\n",
        "        teacher_logits = teacher_model(inputs).detach()\n",
        "\n",
        "        # compute KL Divergence loss\n",
        "        loss = KL_loss(student_logits, teacher_logits)\n",
        "\n",
        "        # run backpropagation step\n",
        "        loss.backward()\n",
        "        student_optimizer.step()\n",
        "\n",
        "        epoch_loss += loss.item()\n",
        "\n",
        "    # Evaluate on test data\n",
        "    student_model.eval()  # set to evaluation mode\n",
        "    correct = 0\n",
        "    total = 0\n",
        "    with torch.no_grad():\n",
        "        for data in testloader:\n",
        "            inputs, labels = data\n",
        "            outputs = student_model(inputs)\n",
        "            _, predicted = torch.max(outputs.data, 1)\n",
        "            total += labels.size(0)\n",
        "            correct += (predicted == labels).sum().item()\n",
        "\n",
        "    accuracy = 100 * correct / total\n",
        "    print(f'Epoch {epoch+1}, Loss: {epoch_loss / len(trainloader)}, Accuracy on test data: {accuracy:.2f}%')\n"
      ],
      "metadata": {
        "colab": {
          "base_uri": "https://localhost:8080/"
        },
        "id": "6Y0EJ24W48eb",
        "outputId": "400109f8-1cf6-496f-f93a-bee9745a8d10"
      },
      "execution_count": 16,
      "outputs": [
        {
          "output_type": "stream",
          "name": "stdout",
          "text": [
            "Epoch 1, Loss: 0.06747170624289431, Accuracy on test data: 97.12%\n",
            "Epoch 2, Loss: 0.059983497829055356, Accuracy on test data: 97.34%\n",
            "Epoch 3, Loss: 0.05388834924975247, Accuracy on test data: 96.38%\n",
            "Epoch 4, Loss: 0.050274628327726556, Accuracy on test data: 97.24%\n",
            "Epoch 5, Loss: 0.046857432319796576, Accuracy on test data: 97.31%\n"
          ]
        }
      ]
    }
  ]
}